{
 "cells": [
  {
   "cell_type": "code",
   "execution_count": 36,
   "metadata": {},
   "outputs": [],
   "source": [
    "import pandas as pd\n",
    "import matplotlib.pyplot as pt\n",
    "\n",
    "dataset = pd.read_csv(\"50_Startups.csv\")\n",
    "\n",
    "x = dataset.iloc[:,0:4].values\n",
    "y = dataset.iloc[:, 4].values\n",
    "\n",
    "# categorical variable to numeric\n",
    "from sklearn.preprocessing import LabelEncoder, OneHotEncoder\n",
    "lblEnc = LabelEncoder()\n",
    "x[:,3] = lblEnc.fit_transform(x[:,3])\n",
    "encoder = OneHotEncoder()\n",
    "x = encoder.fit_transform(x)\n",
    "\n",
    "#split\n",
    "from sklearn.model_selection import train_test_split\n",
    "x_train, x_test, y_train, y_test = train_test_split(x,y,test_size = 0.2)\n",
    "\n",
    "from sklearn.linear_model import LinearRegression\n",
    "ln = LinearRegression()\n",
    "ln.fit(x_train,y_train)\n",
    "yPrd = ln.predict(x_test)"
   ]
  }
 ],
 "metadata": {
  "kernelspec": {
   "display_name": "Python 3",
   "language": "python",
   "name": "python3"
  },
  "language_info": {
   "codemirror_mode": {
    "name": "ipython",
    "version": 3
   },
   "file_extension": ".py",
   "mimetype": "text/x-python",
   "name": "python",
   "nbconvert_exporter": "python",
   "pygments_lexer": "ipython3",
   "version": "3.6.7"
  }
 },
 "nbformat": 4,
 "nbformat_minor": 2
}
