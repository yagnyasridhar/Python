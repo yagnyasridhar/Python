{
 "cells": [
  {
   "cell_type": "code",
   "execution_count": null,
   "metadata": {},
   "outputs": [
    {
     "name": "stdin",
     "output_type": "stream",
     "text": [
      "Enter character for player 1 a\n",
      "Enter character for player 2 b\n",
      "Enter Index for a 0\n"
     ]
    },
    {
     "name": "stdout",
     "output_type": "stream",
     "text": [
      "[0]\n",
      "0\n",
      "['x']\n",
      "Ties, please try again\n"
     ]
    },
    {
     "name": "stdin",
     "output_type": "stream",
     "text": [
      "Enter Index for b 3\n"
     ]
    },
    {
     "name": "stdout",
     "output_type": "stream",
     "text": [
      "[0, 3]\n",
      "0\n",
      "['x', 'o']\n",
      "Ties, please try again\n"
     ]
    },
    {
     "name": "stdin",
     "output_type": "stream",
     "text": [
      "Enter Index for a 1\n"
     ]
    },
    {
     "name": "stdout",
     "output_type": "stream",
     "text": [
      "[0, 3, 1]\n",
      "1\n",
      "['x', 'x', 'o']\n",
      "Ties, please try again\n"
     ]
    },
    {
     "name": "stdin",
     "output_type": "stream",
     "text": [
      "Enter Index for b 4\n"
     ]
    },
    {
     "name": "stdout",
     "output_type": "stream",
     "text": [
      "[0, 3, 1, 4]\n",
      "1\n",
      "['x', 'x', 'o', 'o']\n",
      "Ties, please try again\n"
     ]
    },
    {
     "name": "stdin",
     "output_type": "stream",
     "text": [
      "Enter Index for a 2\n"
     ]
    },
    {
     "name": "stdout",
     "output_type": "stream",
     "text": [
      "[0, 3, 1, 4, 2]\n",
      "1\n",
      "['x', 'x', 'x', 'o', 'o']\n",
      "x is the winner\n"
     ]
    }
   ],
   "source": [
    "x = input(\"Enter character for player 1\")\n",
    "y = input(\"Enter character for player 2\")\n",
    "\n",
    "x = x[0]\n",
    "y = y[0]    \n",
    "lst = []\n",
    "pos = []\n",
    "\n",
    "def getindex(player):\n",
    "    ind = int(input(\"Enter Index for \" + player))\n",
    "    while(ind > 9 ):\n",
    "        print(\"Index cant be greater than 9\")\n",
    "        ind = input(\"Enter Index for \" + player)\n",
    "    return ind\n",
    "\n",
    "def postion(player):\n",
    "    idex = getindex(player)   \n",
    "    pos.append(idex)\n",
    "    #print(pos)\n",
    "    while(pos.count(idex) > 1):\n",
    "        print(\"Postion already entered, retype the different postion\")\n",
    "        idex = getindex(player)    \n",
    "    return idex\n",
    "\n",
    "def check():\n",
    "    print(pos)\n",
    "    print(pos.count(1))\n",
    "    print(lst)\n",
    "    if(pos.count(0) == 1 and pos.count(1) == 1 and pos.count(2) == 1 and (lst[0] == lst[1] == lst[2])):\n",
    "        print(lst[0] + \" is the winner\")\n",
    "    elif(pos.count(3) == 1 and pos.count(4) == 1 and pos.count(5) == 1 and lst[3] == lst[4] == lst[5]):\n",
    "        print(lst[3] + \" is the winner\")\n",
    "    elif(pos.count(6) == 1 and pos.count(7) == 1 and pos.count(7) == 1 and lst[6] == lst[7] == lst[8]):\n",
    "        print(lst[6] + \" is the winner\")\n",
    "    elif(pos.count(0) == 1 and pos.count(4) == 1 and pos.count(8) == 1 and lst[0] == lst[4] == lst[8]):\n",
    "        print(lst[0] + \" is the winner\")\n",
    "    elif(pos.count(2) == 1 and pos.count(4) == 1 and pos.count(6) == 1 and lst[2] == lst[4] == lst[6]):\n",
    "        print(lst[2] + \" is the winner\")\n",
    "    else:\n",
    "        print(\"Ties, please try again\")\n",
    "        \n",
    "for i in range(0,9):\n",
    "    if(i == 0):\n",
    "        index = postion(x)\n",
    "        lst.insert(index, 'x')\n",
    "        check()\n",
    "    elif(i % 2 != 0):\n",
    "        index = postion(y)\n",
    "        lst.insert(index, 'o')\n",
    "        check()\n",
    "    else:\n",
    "        index = postion(x)\n",
    "        lst.insert(index, 'x')\n",
    "        check()\n",
    "else:\n",
    "    check()\n"
   ]
  }
 ],
 "metadata": {
  "kernelspec": {
   "display_name": "Python 3",
   "language": "python",
   "name": "python3"
  },
  "language_info": {
   "codemirror_mode": {
    "name": "ipython",
    "version": 3
   },
   "file_extension": ".py",
   "mimetype": "text/x-python",
   "name": "python",
   "nbconvert_exporter": "python",
   "pygments_lexer": "ipython3",
   "version": "3.6.7"
  }
 },
 "nbformat": 4,
 "nbformat_minor": 2
}
