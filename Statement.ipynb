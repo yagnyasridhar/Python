{
 "cells": [
  {
   "cell_type": "code",
   "execution_count": 8,
   "metadata": {},
   "outputs": [
    {
     "name": "stdout",
     "output_type": "stream",
     "text": [
      "1 => Apple\n",
      "Its apple\n",
      "2 => Orange\n",
      "Its orange\n",
      "3 => Mango\n",
      "Its Mango\n"
     ]
    }
   ],
   "source": [
    "fruit = {\"1\":\"Apple\", \"2\":\"Orange\",\"3\":\"Mango\"}\n",
    "\n",
    "for i,j in fruit.items():\n",
    "    print (i + \" => \" + j)\n",
    "    if j == \"Apple\":\n",
    "        print(\"Its apple\")\n",
    "    elif j == \"Orange\":\n",
    "        print(\"Its orange\")\n",
    "    else:\n",
    "        print(\"Its Mango\")"
   ]
  },
  {
   "cell_type": "code",
   "execution_count": 9,
   "metadata": {},
   "outputs": [
    {
     "name": "stdout",
     "output_type": "stream",
     "text": [
      "10\n"
     ]
    }
   ],
   "source": [
    "i =10\n",
    "while(i>=10):\n",
    "    print(i)\n",
    "    i = i-1;"
   ]
  },
  {
   "cell_type": "code",
   "execution_count": 11,
   "metadata": {},
   "outputs": [
    {
     "data": {
      "text/plain": [
       "range(0, 10)"
      ]
     },
     "execution_count": 11,
     "metadata": {},
     "output_type": "execute_result"
    }
   ],
   "source": [
    "p = range(10)\n",
    "p"
   ]
  }
 ],
 "metadata": {
  "kernelspec": {
   "display_name": "Python 3",
   "language": "python",
   "name": "python3"
  },
  "language_info": {
   "codemirror_mode": {
    "name": "ipython",
    "version": 3
   },
   "file_extension": ".py",
   "mimetype": "text/x-python",
   "name": "python",
   "nbconvert_exporter": "python",
   "pygments_lexer": "ipython3",
   "version": "3.6.7"
  }
 },
 "nbformat": 4,
 "nbformat_minor": 2
}
