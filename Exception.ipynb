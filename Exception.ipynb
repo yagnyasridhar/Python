{
 "cells": [
  {
   "cell_type": "code",
   "execution_count": 2,
   "metadata": {},
   "outputs": [
    {
     "name": "stdout",
     "output_type": "stream",
     "text": [
      "got it\n",
      "bye\n"
     ]
    }
   ],
   "source": [
    "class customException(Exception):\n",
    "    \"\"\"Jst a custom exception\"\"\"\n",
    "    def display():\n",
    "        print(\"got it\")\n",
    "\n",
    "def sample():\n",
    "    try:\n",
    "        raise customException\n",
    "    except customException:\n",
    "        customException.display()\n",
    "    finally:\n",
    "        print(\"bye\")\n",
    "\n",
    "sample()"
   ]
  }
 ],
 "metadata": {
  "kernelspec": {
   "display_name": "Python 3",
   "language": "python",
   "name": "python3"
  },
  "language_info": {
   "codemirror_mode": {
    "name": "ipython",
    "version": 3
   },
   "file_extension": ".py",
   "mimetype": "text/x-python",
   "name": "python",
   "nbconvert_exporter": "python",
   "pygments_lexer": "ipython3",
   "version": "3.6.7"
  }
 },
 "nbformat": 4,
 "nbformat_minor": 2
}
